{
 "cells": [
  {
   "cell_type": "code",
   "execution_count": 2,
   "metadata": {},
   "outputs": [],
   "source": [
    "import torch\n",
    "import matplotlib.pyplot as plt\n",
    "import numpy as np\n",
    "import torchvision\n",
    "from PIL import Image\n",
    "import pandas as pd\n",
    "\n",
    "from datasets.HanDataset import dataset_generator\n",
    "from utils.utility import csv_preprocess, _nms_eval_iou\n",
    "from utils.losses import calc_loss\n",
    "from models.HRCenterNet import HRCenterNet"
   ]
  },
  {
   "cell_type": "code",
   "execution_count": null,
   "metadata": {},
   "outputs": [],
   "source": [
    "crop_size = 512\n",
    "output_size = 128"
   ]
  },
  {
   "cell_type": "code",
   "execution_count": null,
   "metadata": {},
   "outputs": [],
   "source": [
    "dataloader = dict()\n",
    "\n",
    "demo_list = csv_preprocess('data/train.csv')\n",
    "print(\"found\", len(demo_list), \"of images\")"
   ]
  },
  {
   "cell_type": "code",
   "execution_count": null,
   "metadata": {},
   "outputs": [],
   "source": [
    "demo_set = dataset_generator('data/images/', demo_list, crop_size, 0.5, output_size)"
   ]
  },
  {
   "cell_type": "code",
   "execution_count": null,
   "metadata": {},
   "outputs": [],
   "source": [
    "for i in range(0, 10):\n",
    "    sample = demo_set[i]\n",
    "    fig, axes = plt.subplots(1, 2,figsize=(20, 25))\n",
    "\n",
    "    image = sample['image']\n",
    "    heatmap = sample['labels'][..., 0]\n",
    "    \n",
    "    out = np.asarray(image).transpose((1, 2, 0))\n",
    "    axes[0].imshow(out)\n",
    "    axes[1].imshow(heatmap)\n",
    "    plt.show()\n",
    "    "
   ]
  },
  {
   "cell_type": "code",
   "execution_count": 4,
   "metadata": {},
   "outputs": [
    {
     "name": "stdout",
     "output_type": "stream",
     "text": [
      "divece:  cuda\n"
     ]
    },
    {
     "name": "stderr",
     "output_type": "stream",
     "text": [
      "usage: evaluate.py [-h] --data_dir DATA_DIR --csv_path CSV_PATH --log_dir\n",
      "                   LOG_DIR [--output_dir OUTPUT_DIR] [--save_img]\n",
      "evaluate.py: error: the following arguments are required: --csv_path, --log_dir\n"
     ]
    },
    {
     "ename": "SystemExit",
     "evalue": "2",
     "output_type": "error",
     "traceback": [
      "An exception has occurred, use %tb to see the full traceback.\n",
      "\u001b[1;31mSystemExit\u001b[0m\u001b[1;31m:\u001b[0m 2\n"
     ]
    }
   ],
   "source": [
    "%run -i evaluate.py --data_dir 'images' "
   ]
  },
  {
   "cell_type": "code",
   "execution_count": 1,
   "metadata": {},
   "outputs": [
    {
     "name": "stdout",
     "output_type": "stream",
     "text": [
      "divece:  cuda\n",
      "Load checkpoint from HRCenterNet.pth.tar\n",
      "saving image to  test-1871/page001.jpg\n",
      "saving image to  test-1871/page002.jpg\n",
      "saving image to  test-1871/page003.jpg\n",
      "saving image to  test-1871/page004.jpg\n",
      "saving image to  test-1871/page005.jpg\n",
      "saving image to  test-1871/page006.jpg\n",
      "saving image to  test-1871/page007.jpg\n",
      "saving image to  test-1871/page008.jpg\n",
      "saving image to  test-1871/page009.jpg\n",
      "saving image to  test-1871/page010.jpg\n",
      "saving image to  test-1871/page011.jpg\n",
      "saving image to  test-1871/page012.jpg\n",
      "saving image to  test-1871/page013.jpg\n",
      "saving image to  test-1871/page014.jpg\n",
      "saving image to  test-1871/page015.jpg\n",
      "saving image to  test-1871/page016.jpg\n",
      "saving image to  test-1871/page017.jpg\n",
      "saving image to  test-1871/page018.jpg\n",
      "saving image to  test-1871/page019.jpg\n",
      "saving image to  test-1871/page020.jpg\n",
      "saving image to  test-1871/page021.jpg\n",
      "saving image to  test-1871/page022.jpg\n",
      "saving image to  test-1871/page023.jpg\n",
      "saving image to  test-1871/page024.jpg\n",
      "saving image to  test-1871/page025.jpg\n",
      "saving image to  test-1871/page026.jpg\n",
      "saving image to  test-1871/page027.jpg\n",
      "saving image to  test-1871/page028.jpg\n",
      "saving image to  test-1871/page029.jpg\n",
      "saving image to  test-1871/page030.jpg\n",
      "saving image to  test-1871/page031.jpg\n",
      "saving image to  test-1871/page032.jpg\n",
      "saving image to  test-1871/page033.jpg\n",
      "saving image to  test-1871/page034.jpg\n",
      "saving image to  test-1871/page035.jpg\n",
      "saving image to  test-1871/page036.jpg\n",
      "saving image to  test-1871/page037.jpg\n",
      "saving image to  test-1871/page038.jpg\n",
      "saving image to  test-1871/page039.jpg\n",
      "saving image to  test-1871/page040.jpg\n",
      "saving image to  test-1871/page041.jpg\n",
      "saving image to  test-1871/page042.jpg\n",
      "saving image to  test-1871/page043.jpg\n",
      "saving image to  test-1871/page044.jpg\n",
      "saving image to  test-1871/page045.jpg\n",
      "saving image to  test-1871/page046.jpg\n",
      "saving image to  test-1871/page047.jpg\n",
      "saving image to  test-1871/page048.jpg\n",
      "saving image to  test-1871/page049.jpg\n",
      "saving image to  test-1871/page050.jpg\n",
      "saving image to  test-1871/page051.jpg\n",
      "saving image to  test-1871/page052.jpg\n",
      "saving image to  test-1871/page053.jpg\n",
      "saving image to  test-1871/page054.jpg\n",
      "saving image to  test-1871/page055.jpg\n",
      "saving image to  test-1871/page056.jpg\n",
      "saving image to  test-1871/page057.jpg\n",
      "saving image to  test-1871/page058.jpg\n",
      "saving image to  test-1871/page059.jpg\n",
      "saving image to  test-1871/page060.jpg\n",
      "saving image to  test-1871/page061.jpg\n",
      "saving image to  test-1871/page062.jpg\n",
      "saving image to  test-1871/page063.jpg\n",
      "saving image to  test-1871/page064.jpg\n",
      "saving image to  test-1871/page065.jpg\n",
      "saving image to  test-1871/page066.jpg\n",
      "saving image to  test-1871/page067.jpg\n",
      "saving image to  test-1871/page068.jpg\n",
      "saving image to  test-1871/page069.jpg\n",
      "saving image to  test-1871/page070.jpg\n",
      "saving image to  test-1871/page071.jpg\n",
      "saving image to  test-1871/page072.jpg\n",
      "saving image to  test-1871/page073.jpg\n",
      "saving image to  test-1871/page074.jpg\n",
      "saving image to  test-1871/page075.jpg\n",
      "saving image to  test-1871/page076.jpg\n",
      "saving image to  test-1871/page077.jpg\n",
      "saving image to  test-1871/page078.jpg\n",
      "saving image to  test-1871/page079.jpg\n",
      "saving image to  test-1871/page080.jpg\n",
      "saving image to  test-1871/page081.jpg\n",
      "saving image to  test-1871/page082.jpg\n",
      "saving image to  test-1871/page083.jpg\n",
      "saving image to  test-1871/page084.jpg\n",
      "saving image to  test-1871/page085.jpg\n",
      "saving image to  test-1871/page086.jpg\n",
      "saving image to  test-1871/page087.jpg\n",
      "saving image to  test-1871/page088.jpg\n",
      "saving image to  test-1871/page089.jpg\n",
      "saving image to  test-1871/page090.jpg\n",
      "saving image to  test-1871/page091.jpg\n",
      "saving image to  test-1871/page092.jpg\n",
      "saving image to  test-1871/page093.jpg\n",
      "saving image to  test-1871/page094.jpg\n",
      "saving image to  test-1871/page095.jpg\n",
      "saving image to  test-1871/page096.jpg\n",
      "saving image to  test-1871/page097.jpg\n",
      "saving image to  test-1871/page098.jpg\n",
      "saving image to  test-1871/page099.jpg\n",
      "saving image to  test-1871/page100.jpg\n",
      "saving image to  test-1871/page101.jpg\n",
      "saving image to  test-1871/page102.jpg\n",
      "saving image to  test-1871/page103.jpg\n",
      "saving image to  test-1871/page104.jpg\n",
      "saving image to  test-1871/page105.jpg\n",
      "saving image to  test-1871/page106.jpg\n",
      "saving image to  test-1871/page107.jpg\n",
      "saving image to  test-1871/page108.jpg\n",
      "saving image to  test-1871/page109.jpg\n",
      "saving image to  test-1871/page110.jpg\n",
      "saving image to  test-1871/page111.jpg\n",
      "saving image to  test-1871/page112.jpg\n",
      "saving image to  test-1871/page113.jpg\n",
      "saving image to  test-1871/page114.jpg\n",
      "saving image to  test-1871/page115.jpg\n",
      "saving image to  test-1871/page116.jpg\n",
      "saving image to  test-1871/page117.jpg\n",
      "saving image to  test-1871/page118.jpg\n",
      "saving image to  test-1871/page119.jpg\n",
      "saving image to  test-1871/page120.jpg\n",
      "saving image to  test-1871/page121.jpg\n",
      "saving image to  test-1871/page122.jpg\n",
      "saving image to  test-1871/page123.jpg\n",
      "saving image to  test-1871/page124.jpg\n",
      "saving image to  test-1871/page125.jpg\n",
      "saving image to  test-1871/page126.jpg\n",
      "saving image to  test-1871/page127.jpg\n",
      "saving image to  test-1871/page128.jpg\n",
      "saving image to  test-1871/page129.jpg\n",
      "saving image to  test-1871/page130.jpg\n",
      "saving image to  test-1871/page131.jpg\n",
      "saving image to  test-1871/page132.jpg\n",
      "saving image to  test-1871/page133.jpg\n",
      "saving image to  test-1871/page134.jpg\n",
      "saving image to  test-1871/page135.jpg\n",
      "saving image to  test-1871/page136.jpg\n"
     ]
    }
   ],
   "source": [
    "%run -i test.py --data_dir version_1871/ --log_dir HRCenterNet.pth.tar  --output_dir test-1871/"
   ]
  },
  {
   "cell_type": "code",
   "execution_count": null,
   "metadata": {},
   "outputs": [
    {
     "name": "stdout",
     "output_type": "stream",
     "text": [
      "divece:  cuda\n",
      "Load checkpoint from HRCenterNet.pth.tar\n"
     ]
    }
   ],
   "source": [
    "%run -i test.py --data_dir images/ --log_dir HRCenterNet.pth.tar  --output_dir test/"
   ]
  }
 ],
 "metadata": {
  "kernelspec": {
   "display_name": "Python 3 (ipykernel)",
   "language": "python",
   "name": "python3"
  },
  "language_info": {
   "codemirror_mode": {
    "name": "ipython",
    "version": 3
   },
   "file_extension": ".py",
   "mimetype": "text/x-python",
   "name": "python",
   "nbconvert_exporter": "python",
   "pygments_lexer": "ipython3",
   "version": "3.7.12"
  }
 },
 "nbformat": 4,
 "nbformat_minor": 4
}
